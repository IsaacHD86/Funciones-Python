{
 "cells": [
  {
   "cell_type": "code",
   "execution_count": 32,
   "id": "7e5bb973",
   "metadata": {},
   "outputs": [
    {
     "name": "stdout",
     "output_type": "stream",
     "text": [
      "cba321\n"
     ]
    }
   ],
   "source": [
    "# Desarrollar un programa que atravez de una funcion sea capaz de invertir una cadena dada de caracteres\n",
    "\n",
    "def invierte_cadena(cadena):\n",
    "    cadena_invertida = \"\"   # creamos una cadena nueva vacia\n",
    "    for letra in cadena:    # recorremos la cadena original letra por letra\n",
    "        cadena_invertida = letra + cadena_invertida\n",
    "    return cadena_invertida\n",
    "print(invierte_cadena('123abc'))"
   ]
  },
  {
   "cell_type": "code",
   "execution_count": 29,
   "id": "6bc37015",
   "metadata": {},
   "outputs": [
    {
     "name": "stdout",
     "output_type": "stream",
     "text": [
      "True\n"
     ]
    }
   ],
   "source": [
    "# escribe una funcion en pyhton llamada prueba_primo que tome un numero como parametro y compruebe si el numero es primo o no\n",
    "\n",
    "def prueba_primo(x):\n",
    "    if x <= 1:\n",
    "        return False\n",
    "    if x % 2 == 0:\n",
    "        return False\n",
    "    else:\n",
    "        return True\n",
    "print(prueba_primo(7))"
   ]
  },
  {
   "cell_type": "code",
   "execution_count": 36,
   "id": "43df86aa",
   "metadata": {},
   "outputs": [
    {
     "name": "stdout",
     "output_type": "stream",
     "text": [
      "El numero 1 es: False\n",
      "El numero 2 es: False\n",
      "El numero 3 es: True\n",
      "El numero 4 es: False\n",
      "El numero 5 es: True\n",
      "El numero 6 es: False\n",
      "El numero 7 es: True\n",
      "El numero 8 es: False\n",
      "El numero 9 es: True\n",
      "El numero 10 es: False\n"
     ]
    }
   ],
   "source": [
    "def prueba_primo(x):\n",
    "    if x <= 1:\n",
    "        return False\n",
    "    elif x % 2 == 0:\n",
    "        return False\n",
    "    else:\n",
    "        return True\n",
    "for valor in range(1,11):\n",
    "    print(f'El numero {valor} es:',prueba_primo(valor))"
   ]
  },
  {
   "cell_type": "code",
   "execution_count": null,
   "id": "47d77f94",
   "metadata": {},
   "outputs": [],
   "source": []
  }
 ],
 "metadata": {
  "kernelspec": {
   "display_name": "Python 3 (ipykernel)",
   "language": "python",
   "name": "python3"
  },
  "language_info": {
   "codemirror_mode": {
    "name": "ipython",
    "version": 3
   },
   "file_extension": ".py",
   "mimetype": "text/x-python",
   "name": "python",
   "nbconvert_exporter": "python",
   "pygments_lexer": "ipython3",
   "version": "3.11.5"
  }
 },
 "nbformat": 4,
 "nbformat_minor": 5
}
